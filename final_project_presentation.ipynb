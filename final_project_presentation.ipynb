{
 "cells": [
  {
   "cell_type": "markdown",
   "metadata": {
    "collapsed": true
   },
   "source": [
    "# My Battle of Neighborhoods work\n",
    "## New York Conrad Hotel and Toronto Hilton Comparison\n",
    "New York City and Toronto are two different cities, belonging to different countries, the US and Canada, respectively\n",
    "\n",
    "Let's check their position\n",
    "<img src =https://camo.githubusercontent.com/a356b0e6c660696c22534f147023a8df308fabbf/68747470733a2f2f7777772e7269742e6564752f656d63732f61646d697373696f6e732f696d616765732f73746f726965732f6173736f727465642f7269742d6d61702d636f756e7472792e676966>\n",
    "\n",
    "\n",
    "Toronto is more to the North-West, while New York is to South-East, which is clear from the map. That means if you seek a warmer place - it's probably New York. However if you're a Chinese food fan, the choice may become a bit more complicated.\n",
    "\n",
    "### Comparison of two randomly chosen hotels in those two cities showed a difference in Chinese food availability differences in their respective surroindings.\n",
    "\n",
    "<img src =https://camo.githubusercontent.com/c09c04bbe2c9d6607972f00b15d86c0fadc77e8f/68747470733a2f2f7777772e6e7963746f75726973742e636f6d2f73697465732f64656661756c742f66696c65732f62696c6c626f6172642f636f6e7261642d6e792d315f432e6a7067>\n",
    "\n",
    "<img src =https://camo.githubusercontent.com/2753e047c837488205a153068d4208ba99ad5bd3/68747470733a2f2f636f6e74656e742e723963646e2e6e65742f72696d672f68696d672f33642f66612f35622f6c656f6e6172646f2d313037303734332d466f75725f536561736f6e735f43656e7472655f532d696d6167652e6a70673f77696474683d353030266865696768743d333530267868696e743d383034267968696e743d3532322663726f703d74727565>\n",
    "\n",
    "In case of Hilton Toronto there were four Chineses restauraunts around the hotel, like this one:\n",
    "\n",
    "<img src =https://camo.githubusercontent.com/06e5e1642355b6752b73fa0881510870d02e0acb/68747470733a2f2f73332e616d617a6f6e6177732e636f6d2f62746f696d6167652f707269736d2d7468756d626e61696c732f75706c6f6164732f323031382f30382f32312f32303137313232302d323034382d5975656854756e67392e6a70672d726573697a652d5f6f7061636974795f3130302d6672616d655f62675f636f6c6f725f4646462d685f323530302d677261766974795f63656e7465722d715f37302d70726573657276655f726174696f5f747275652d775f313430305f2e77656270>\n",
    "\n",
    "\n",
    "Or like this one: \n",
    "\n",
    "<img src =https://camo.githubusercontent.com/dd24109eaec069e8ff52e33accd4526d8b2e9e40/68747470733a2f2f73332e616d617a6f6e6177732e636f6d2f62746f696d6167652f707269736d2d7468756d626e61696c732f6c697374696e67732f323362642d323031363532312d70686f656e69782d70616e2e6a70672d726573697a655f7468656e5f63726f702d5f6672616d655f62675f636f6c6f725f4646462d685f313336352d677261766974795f63656e7465722d715f37302d70726573657276655f726174696f5f747275652d775f323034385f2e77656270>\n",
    "\n",
    "At the same in New York you could only have food truck nearby Conrad Hotel\n",
    "\n",
    "<img src =https://camo.githubusercontent.com/c9c7967856400d4f5773d49be9ab17707f749ca0/687474703a2f2f342e62702e626c6f6773706f742e636f6d2f2d5a376e665a70656b456f452f554b6c48484a38344858492f4141414141414141562d302f415a5275785a42434f78632f73313630302f494d475f313034362e6a7067>\n",
    "\n",
    "<img src =https://camo.githubusercontent.com/476e652e748005a239e54b1ca31f56976f68bb7a/68747470733a2f2f63616e6e612d7065742e636f6d2f77702d636f6e74656e742f75706c6f6164732f323031392f30342f6a757374696e2d7665656e656d612d33313133352d756e73706c6173682d31303234783632322e6a7067>\n",
    "\n",
    "\n",
    "So while New York is a bit warmer, you will have to eat from that food truck if you're Chinese food fan staying at Conrad Hotel"
   ]
  },
  {
   "cell_type": "code",
   "execution_count": null,
   "metadata": {},
   "outputs": [],
   "source": []
  }
 ],
 "metadata": {
  "kernelspec": {
   "display_name": "Python 3.6",
   "language": "python",
   "name": "python3"
  },
  "language_info": {
   "codemirror_mode": {
    "name": "ipython",
    "version": 3
   },
   "file_extension": ".py",
   "mimetype": "text/x-python",
   "name": "python",
   "nbconvert_exporter": "python",
   "pygments_lexer": "ipython3",
   "version": "3.6.8"
  }
 },
 "nbformat": 4,
 "nbformat_minor": 1
}
